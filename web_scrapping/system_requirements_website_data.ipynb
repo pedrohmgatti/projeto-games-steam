{
 "cells": [
  {
   "cell_type": "markdown",
   "metadata": {},
   "source": [
    "# Libraries"
   ]
  },
  {
   "cell_type": "code",
   "execution_count": 1,
   "metadata": {},
   "outputs": [],
   "source": [
    "import pandas as pd\n",
    "from selenium import webdriver\n",
    "from selenium.webdriver.chrome.service import Service\n",
    "from selenium.webdriver.common.by import By\n",
    "import time\n",
    "import re\n",
    "\n",
    "global original_window"
   ]
  },
  {
   "cell_type": "markdown",
   "metadata": {},
   "source": [
    "# Selenium"
   ]
  },
  {
   "cell_type": "code",
   "execution_count": 2,
   "metadata": {},
   "outputs": [],
   "source": [
    "# Initialize the Chrome WebDriver service\n",
    "service = Service()\n",
    "\n",
    "# Set Chrome options\n",
    "options = webdriver.ChromeOptions()\n",
    "\n",
    "# Start the WebDriver\n",
    "driver = webdriver.Chrome(service=service, options=options)"
   ]
  },
  {
   "cell_type": "code",
   "execution_count": 3,
   "metadata": {},
   "outputs": [],
   "source": [
    "# URL of the Intel CPU Data page\n",
    "url = 'https://gamesystemrequirements.com/games'\n",
    "\n",
    "# Open the webpage\n",
    "driver.get(url)\n",
    "\n",
    "# Set an implicit wait time\n",
    "driver.implicitly_wait(3)"
   ]
  },
  {
   "cell_type": "markdown",
   "metadata": {},
   "source": [
    "# Click Button Function"
   ]
  },
  {
   "cell_type": "code",
   "execution_count": 4,
   "metadata": {},
   "outputs": [],
   "source": [
    "# Function to click a button given its XPath\n",
    "def click_button(driver, xpath):\n",
    "    driver.find_element(By.XPATH, xpath).click()\n",
    "    time.sleep(1)"
   ]
  },
  {
   "cell_type": "markdown",
   "metadata": {},
   "source": [
    "# Close Privacy window"
   ]
  },
  {
   "cell_type": "code",
   "execution_count": 5,
   "metadata": {},
   "outputs": [],
   "source": [
    "# Wait for window appear\n",
    "time.sleep(2)\n",
    "\n",
    "# Close Window\n",
    "click_button(driver, \"//span[text()='AGREE']\")"
   ]
  },
  {
   "cell_type": "markdown",
   "metadata": {},
   "source": [
    "# Create a list of all games"
   ]
  },
  {
   "cell_type": "code",
   "execution_count": 6,
   "metadata": {},
   "outputs": [],
   "source": [
    "# Wait for window load\n",
    "driver.implicitly_wait(2)\n",
    "\n",
    "# Save all games images (the images will represent each game)\n",
    "games_list = driver.find_elements(By.TAG_NAME, \"img\")\n"
   ]
  },
  {
   "cell_type": "code",
   "execution_count": 7,
   "metadata": {},
   "outputs": [
    {
     "name": "stdout",
     "output_type": "stream",
     "text": [
      "Error processing game 9: Fail to capture game requirements to run!\n",
      "Error processing game 13: Fail to capture game requirements to run!\n",
      "Error processing game 23: Fail to capture game requirements to run!\n"
     ]
    }
   ],
   "source": [
    "# Game list to store game data\n",
    "games_data = []\n",
    "\n",
    "# Iterate through games from index 2 to 50\n",
    "for i in range(2, 50):\n",
    "    try:\n",
    "        # Get game URL from the link inside the <a> tag containing the image\n",
    "        game_url = games_list[i].find_element(By.XPATH, \"./ancestor::a\").get_attribute(\"href\")\n",
    "\n",
    "        # Open the game in a new tab\n",
    "        driver.execute_script(\"window.open(arguments[0]);\", game_url)\n",
    "        time.sleep(2)\n",
    "\n",
    "        # Switch to the new tab\n",
    "        driver.switch_to.window(driver.window_handles[-1])\n",
    "\n",
    "        # Wait for the game page to load\n",
    "        time.sleep(3)\n",
    "\n",
    "        # Extract game name\n",
    "        game_name = driver.find_element(By.CLASS_NAME, \"game_head_title\").text\n",
    "\n",
    "        # Extract text block containing date, genre, developer, and publisher\n",
    "        details_text = driver.find_element(By.CLASS_NAME, \"game_head_details\").text\n",
    "\n",
    "        # Regular expressions to capture each information\n",
    "        date_match = re.search(r\"Release date:\\s*(.+?)\\n\", details_text)\n",
    "        genre_match = re.search(r\"Genre:\\s*(.+?)\\n\", details_text)\n",
    "        developer_match = re.search(r\"Developer:\\s*(.+?)\\n\", details_text)\n",
    "        publisher_match = re.search(r\"Publisher:\\s*(.+)\", details_text)\n",
    "\n",
    "        # Capture values or set to None if not found\n",
    "        release_date = date_match.group(1) if date_match else None\n",
    "        genre = genre_match.group(1) if genre_match else None\n",
    "        developer = developer_match.group(1) if developer_match else None\n",
    "        publisher = publisher_match.group(1) if publisher_match else None\n",
    "\n",
    "        # Extract minimum requirements\n",
    "        min_cpu = driver.find_element(By.XPATH, \"//h2[contains(text(),'Minimum')]/following-sibling::div//div[contains(text(),'CPU:')]/following-sibling::div\").text\n",
    "        min_ram = driver.find_element(By.XPATH, \"//h2[contains(text(),'Minimum')]/following-sibling::div//div[contains(text(),'RAM:')]/following-sibling::div\").text\n",
    "        min_gpu = driver.find_element(By.XPATH, \"//h2[contains(text(),'Minimum')]/following-sibling::div//div[contains(text(),'GPU:')]/following-sibling::div\").text\n",
    "\n",
    "        # Extract recommended requirements\n",
    "        rec_cpu = driver.find_element(By.XPATH, \"//h2[contains(text(),'Recommended')]/following-sibling::div//div[contains(text(),'CPU:')]/following-sibling::div\").text\n",
    "        rec_ram = driver.find_element(By.XPATH, \"//h2[contains(text(),'Recommended')]/following-sibling::div//div[contains(text(),'RAM:')]/following-sibling::div\").text\n",
    "        rec_gpu = driver.find_element(By.XPATH, \"//h2[contains(text(),'Recommended')]/following-sibling::div//div[contains(text(),'GPU:')]/following-sibling::div\").text\n",
    "\n",
    "        # Add data to the list\n",
    "        games_data.append([game_name, release_date, genre, developer, publisher, \n",
    "                          min_cpu, min_ram, min_gpu, rec_cpu, rec_ram, rec_gpu])\n",
    "\n",
    "        # Close current tab\n",
    "        driver.close()\n",
    "\n",
    "        # Return to main tab\n",
    "        driver.switch_to.window(driver.window_handles[0])\n",
    "\n",
    "    except Exception as e:\n",
    "        print(f\"Error processing game {i}: Fail to capture game requirements to run!\")\n",
    "        driver.switch_to.window(driver.window_handles[0])  # Ensure return to main tab\n",
    "\n",
    "# Close WebDriver after finishing extraction\n",
    "driver.quit()"
   ]
  },
  {
   "cell_type": "code",
   "execution_count": 8,
   "metadata": {},
   "outputs": [],
   "source": [
    "# Create DataFrame with collected data\n",
    "system_requirement_website_data = pd.DataFrame(games_data, columns=[\"game_name\", \"release_date\", \"genre\", \"developer\", \"publisher\", \n",
    "                                        \"cpu_minimum\", \"ram_minimum\", \"gpu_minimum\", \n",
    "                                        \"cpu_recommended\", \"ram_recommended\", \"gpu_recommended\"])\n"
   ]
  },
  {
   "cell_type": "code",
   "execution_count": 9,
   "metadata": {},
   "outputs": [],
   "source": [
    "# Save data\n",
    "system_requirement_website_data.to_csv('../tables/system_requirement_website_data.csv', index=True)"
   ]
  }
 ],
 "metadata": {
  "kernelspec": {
   "display_name": "Python 3",
   "language": "python",
   "name": "python3"
  },
  "language_info": {
   "codemirror_mode": {
    "name": "ipython",
    "version": 3
   },
   "file_extension": ".py",
   "mimetype": "text/x-python",
   "name": "python",
   "nbconvert_exporter": "python",
   "pygments_lexer": "ipython3",
   "version": "3.11.9"
  }
 },
 "nbformat": 4,
 "nbformat_minor": 2
}
