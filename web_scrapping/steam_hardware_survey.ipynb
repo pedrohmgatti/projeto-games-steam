{
 "cells": [
  {
   "cell_type": "markdown",
   "metadata": {},
   "source": [
    "# Libraries"
   ]
  },
  {
   "cell_type": "code",
   "execution_count": 1,
   "metadata": {},
   "outputs": [],
   "source": [
    "import pandas as pd\n",
    "from selenium import webdriver\n",
    "from selenium.webdriver.chrome.service import Service\n",
    "from selenium.webdriver.common.by import By\n",
    "import time"
   ]
  },
  {
   "cell_type": "markdown",
   "metadata": {},
   "source": [
    "# Selenium"
   ]
  },
  {
   "cell_type": "code",
   "execution_count": 2,
   "metadata": {},
   "outputs": [],
   "source": [
    "# Initialize the Chrome WebDriver service\n",
    "service = Service()\n",
    "\n",
    "# Set Chrome options\n",
    "options = webdriver.ChromeOptions()\n",
    "\n",
    "# Start the WebDriver\n",
    "driver = webdriver.Chrome(service=service, options=options)"
   ]
  },
  {
   "cell_type": "code",
   "execution_count": 3,
   "metadata": {},
   "outputs": [],
   "source": [
    "# URL of the Steam Hardware Survey page\n",
    "url = 'https://store.steampowered.com/hwsurvey/Steam-Hardware-Software-Survey-Welcome-to-Steam?l=brazilian'\n",
    "\n",
    "# Open the webpage\n",
    "driver.get(url)\n",
    "\n",
    "# Set an implicit wait time\n",
    "driver.implicitly_wait(3)"
   ]
  },
  {
   "cell_type": "markdown",
   "metadata": {},
   "source": [
    "# Click Button Function"
   ]
  },
  {
   "cell_type": "code",
   "execution_count": 4,
   "metadata": {},
   "outputs": [],
   "source": [
    "# Function to click a button given its XPath\n",
    "def click_button(driver, xpath):\n",
    "    driver.find_element(By.XPATH, xpath).click()\n",
    "    time.sleep(1)"
   ]
  },
  {
   "cell_type": "markdown",
   "metadata": {},
   "source": [
    "# Extract VRAM Data"
   ]
  },
  {
   "cell_type": "code",
   "execution_count": 5,
   "metadata": {},
   "outputs": [],
   "source": [
    "# Click the \"VRAM\" button\n",
    "click_button(driver, \"//div[text()='VRAM']\")\n",
    "\n",
    "# Create lists to store the data\n",
    "vram_list = []\n",
    "vram_market_shares_list = []\n",
    "\n",
    "# Collect all VRAM configs\n",
    "vram_elements = driver.find_elements(By.XPATH, \"//div[@class='stats_col_mid data_row']//nobr\")\n",
    "for vram in vram_elements[160:172]:\n",
    "    vram_list.append(vram.text)\n",
    "\n",
    "# Collect all market share values starting from position 171\n",
    "market_share_elements = driver.find_elements(By.XPATH, \"//div[@class='stats_col_right data_row']\")\n",
    "for share in market_share_elements[160:160+len(vram_list)]:  # Starts from index 171\n",
    "    market_share = share.text\n",
    "    vram_market_shares_list.append(market_share)\n",
    "\n",
    "# Create DataFrame\n",
    "vram_data = pd.DataFrame({\"VRAM\": vram_list, \"Market Share\": vram_market_shares_list})\n",
    "\n",
    "# Click the \"VRAM\" button\n",
    "click_button(driver, \"//div[text()='VRAM']\")"
   ]
  },
  {
   "cell_type": "markdown",
   "metadata": {},
   "source": [
    "# Extract Video Card Data"
   ]
  },
  {
   "cell_type": "code",
   "execution_count": 6,
   "metadata": {},
   "outputs": [],
   "source": [
    "# Click the \"Video Card Description\" button\n",
    "click_button(driver, \"//div[text()='Video Card Description']\")\n",
    "\n",
    "# Create lists to store the data\n",
    "gpu_names_list = []\n",
    "market_shares_list = []\n",
    "\n",
    "# Collect all video card names\n",
    "gpu_elements = driver.find_elements(By.XPATH, \"//div[@class='stats_col_mid data_row']//span\")\n",
    "for gpu in gpu_elements:\n",
    "    gpu_names_list.append(gpu.text)\n",
    "\n",
    "# Collect all market share values starting from position 76\n",
    "market_share_elements = driver.find_elements(By.XPATH, \"//div[@class='stats_col_right data_row']\")\n",
    "for share in market_share_elements[75:75+len(gpu_names_list)]:  # Start from index 76\n",
    "    market_share = share.text\n",
    "    market_shares_list.append(market_share)\n",
    "\n",
    "# Create DataFrame\n",
    "gpu_data = pd.DataFrame({\"GPU\": gpu_names_list, \"Market Share\": market_shares_list})\n",
    "\n",
    "# Click the \"Video Card Description\" button\n",
    "click_button(driver, \"//div[text()='Video Card Description']\")"
   ]
  },
  {
   "cell_type": "markdown",
   "metadata": {},
   "source": [
    "# Extract RAM Data"
   ]
  },
  {
   "cell_type": "code",
   "execution_count": 7,
   "metadata": {},
   "outputs": [],
   "source": [
    "# Click the \"System RAM\" button\n",
    "click_button(driver, \"//div[text()='System RAM']\")\n",
    "\n",
    "# Create lists to store the data\n",
    "ram_list = []\n",
    "ram_market_shares_list = []\n",
    "\n",
    "# Collect all RAM configs\n",
    "ram_elements = driver.find_elements(By.XPATH, \"//div[@class='stats_col_mid data_row']//nobr\")\n",
    "for ram in ram_elements[12:22]:\n",
    "    ram_list.append(ram.text)\n",
    "\n",
    "# Collect all market share values starting from position 14\n",
    "market_share_elements = driver.find_elements(By.XPATH, \"//div[@class='stats_col_right data_row']\")\n",
    "for share in market_share_elements[12:12+len(ram_list)]:  # Starts from index 14\n",
    "    market_share = share.text\n",
    "    ram_market_shares_list.append(market_share)\n",
    "\n",
    "# Click the \"System RAM\" button\n",
    "click_button(driver, \"//div[text()='System RAM']\")"
   ]
  },
  {
   "cell_type": "code",
   "execution_count": 8,
   "metadata": {},
   "outputs": [],
   "source": [
    "# Create DataFrame\n",
    "ram_data = pd.DataFrame({\"RAM\": ram_list, \"Market Share\": ram_market_shares_list})\n",
    "\n",
    "driver.close()"
   ]
  },
  {
   "cell_type": "code",
   "execution_count": 9,
   "metadata": {},
   "outputs": [],
   "source": [
    "ram_data.to_csv('tables/ram_data.csv', index=True)\n",
    "gpu_data.to_csv('tables/gpu_data.csv', index=True)\n",
    "vram_data.to_csv('tables/vram_data.csv', index=True)"
   ]
  }
 ],
 "metadata": {
  "kernelspec": {
   "display_name": "Python 3",
   "language": "python",
   "name": "python3"
  },
  "language_info": {
   "codemirror_mode": {
    "name": "ipython",
    "version": 3
   },
   "file_extension": ".py",
   "mimetype": "text/x-python",
   "name": "python",
   "nbconvert_exporter": "python",
   "pygments_lexer": "ipython3",
   "version": "3.11.9"
  }
 },
 "nbformat": 4,
 "nbformat_minor": 2
}
