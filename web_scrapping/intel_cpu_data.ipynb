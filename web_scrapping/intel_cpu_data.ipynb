{
 "cells": [
  {
   "cell_type": "markdown",
   "metadata": {},
   "source": [
    "# Libraries"
   ]
  },
  {
   "cell_type": "code",
   "execution_count": 1,
   "metadata": {},
   "outputs": [],
   "source": [
    "import pandas as pd\n",
    "from selenium import webdriver\n",
    "from selenium.webdriver.chrome.service import Service\n",
    "from selenium.webdriver.common.by import By\n",
    "import time"
   ]
  },
  {
   "cell_type": "markdown",
   "metadata": {},
   "source": [
    "# Selenium"
   ]
  },
  {
   "cell_type": "code",
   "execution_count": 2,
   "metadata": {},
   "outputs": [],
   "source": [
    "# Initialize the Chrome WebDriver service\n",
    "service = Service()\n",
    "\n",
    "# Set Chrome options\n",
    "options = webdriver.ChromeOptions()\n",
    "\n",
    "# Start the WebDriver\n",
    "driver = webdriver.Chrome(service=service, options=options)"
   ]
  },
  {
   "cell_type": "code",
   "execution_count": 3,
   "metadata": {},
   "outputs": [],
   "source": [
    "# URL of the Intel CPU Data page\n",
    "url = 'https://www.intel.com.br/content/www/br/pt/ark/products/series/122139/intel-core-processors.html'\n",
    "\n",
    "# Open the webpage\n",
    "driver.get(url)\n",
    "\n",
    "# Set an implicit wait time\n",
    "driver.implicitly_wait(3)"
   ]
  },
  {
   "cell_type": "markdown",
   "metadata": {},
   "source": [
    "# Click Button Function"
   ]
  },
  {
   "cell_type": "code",
   "execution_count": 4,
   "metadata": {},
   "outputs": [],
   "source": [
    "# Function to click a button given its XPath\n",
    "def click_button(driver, xpath):\n",
    "    driver.find_element(By.XPATH, xpath).click()\n",
    "    time.sleep(1)"
   ]
  },
  {
   "cell_type": "markdown",
   "metadata": {},
   "source": [
    "# Close Cookie window"
   ]
  },
  {
   "cell_type": "code",
   "execution_count": 5,
   "metadata": {},
   "outputs": [],
   "source": [
    "# Wait for window appear\n",
    "time.sleep(2)\n",
    "\n",
    "# Close window\n",
    "click_button(driver, \"//div[@id='onetrust-close-btn-container']/button\")"
   ]
  },
  {
   "cell_type": "markdown",
   "metadata": {},
   "source": [
    "# Extract CPU Name"
   ]
  },
  {
   "cell_type": "code",
   "execution_count": 6,
   "metadata": {},
   "outputs": [],
   "source": [
    "# Create lists to store the data\n",
    "cpu_name_list = []\n",
    "\n",
    "# Collect all CPU configs\n",
    "cpu_elements = driver.find_elements(By.XPATH,\"//td[@data-component-id]//a\")\n",
    "for cpu in cpu_elements:\n",
    "    cpu_name_list.append(cpu.text)"
   ]
  },
  {
   "cell_type": "markdown",
   "metadata": {},
   "source": [
    "# Extract CPU Cores"
   ]
  },
  {
   "cell_type": "code",
   "execution_count": 7,
   "metadata": {},
   "outputs": [],
   "source": [
    "# Create lists to store the data\n",
    "cores_list = []\n",
    "\n",
    "# Collect all CPU Cores number configs\n",
    "cores_elements = driver.find_elements(By.XPATH, \"//td[@data-value]\")\n",
    "for cores in cores_elements[2:5997:6]:\n",
    "    cores_list.append(cores.text)"
   ]
  },
  {
   "cell_type": "markdown",
   "metadata": {},
   "source": [
    "# Extract CPU Max Frequency"
   ]
  },
  {
   "cell_type": "code",
   "execution_count": 8,
   "metadata": {},
   "outputs": [],
   "source": [
    "# Create lists to store the data\n",
    "cpu_frequency_list = []\n",
    "\n",
    "# Collect all CPU cpu_frequency number configs\n",
    "cpu_frequency_elements = driver.find_elements(By.XPATH, \"//td[@data-value]\")\n",
    "for cpu_frequency in cpu_frequency_elements[3:5998:6]:\n",
    "    cpu_frequency_list.append(cpu_frequency.text)"
   ]
  },
  {
   "cell_type": "code",
   "execution_count": 9,
   "metadata": {},
   "outputs": [],
   "source": [
    "# Create DataFrame\n",
    "cpu_data = pd.DataFrame({\"cpu_name\": cpu_name_list, \"n_cores\": cores_list, \"cpu_frequency\":cpu_frequency_list})\n",
    "\n",
    "driver.close()"
   ]
  },
  {
   "cell_type": "code",
   "execution_count": 10,
   "metadata": {},
   "outputs": [],
   "source": [
    "# Save data\n",
    "cpu_data.to_csv('../tables/cpu_data.csv', index=True)"
   ]
  }
 ],
 "metadata": {
  "kernelspec": {
   "display_name": "Python 3",
   "language": "python",
   "name": "python3"
  },
  "language_info": {
   "codemirror_mode": {
    "name": "ipython",
    "version": 3
   },
   "file_extension": ".py",
   "mimetype": "text/x-python",
   "name": "python",
   "nbconvert_exporter": "python",
   "pygments_lexer": "ipython3",
   "version": "3.11.9"
  }
 },
 "nbformat": 4,
 "nbformat_minor": 2
}
