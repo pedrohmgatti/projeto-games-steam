{
 "cells": [
  {
   "cell_type": "markdown",
   "metadata": {},
   "source": [
    "# Libraries"
   ]
  },
  {
   "cell_type": "code",
   "execution_count": 1,
   "metadata": {},
   "outputs": [],
   "source": [
    "import pandas as pd\n",
    "from selenium import webdriver\n",
    "from selenium.webdriver.chrome.service import Service\n",
    "from selenium.webdriver.common.by import By\n",
    "import time\n",
    "\n",
    "global original_window"
   ]
  },
  {
   "cell_type": "markdown",
   "metadata": {},
   "source": [
    "# Selenium"
   ]
  },
  {
   "cell_type": "code",
   "execution_count": 2,
   "metadata": {},
   "outputs": [],
   "source": [
    "# Initialize the Chrome WebDriver service\n",
    "service = Service()\n",
    "\n",
    "# Set Chrome options\n",
    "options = webdriver.ChromeOptions()\n",
    "\n",
    "# Start the WebDriver\n",
    "driver = webdriver.Chrome(service=service, options=options)"
   ]
  },
  {
   "cell_type": "code",
   "execution_count": 3,
   "metadata": {},
   "outputs": [],
   "source": [
    "# URL of the Intel CPU Data page\n",
    "url = 'https://www.systemrequirementslab.com/cyri'\n",
    "\n",
    "# Open the webpage\n",
    "driver.get(url)\n",
    "\n",
    "# Set an implicit wait time\n",
    "driver.implicitly_wait(3)"
   ]
  },
  {
   "cell_type": "markdown",
   "metadata": {},
   "source": [
    "# New Tab Function"
   ]
  },
  {
   "cell_type": "code",
   "execution_count": 4,
   "metadata": {},
   "outputs": [],
   "source": [
    "def open_new_tab(driver, link):\n",
    "    driver.execute_script(\"window.open(arguments[0].href, '_blank');\", link)\n",
    "    time.sleep(2)  # Wait for the new tab to load\n",
    "    driver.switch_to.window(driver.window_handles[-1])"
   ]
  },
  {
   "cell_type": "markdown",
   "metadata": {},
   "source": [
    "# Extract Game Requirements Function"
   ]
  },
  {
   "cell_type": "code",
   "execution_count": 5,
   "metadata": {},
   "outputs": [],
   "source": [
    "def extract_game_requirements(driver):\n",
    "    game_requeriments_list = []\n",
    "    game_elements = driver.find_elements(By.TAG_NAME, \"li\")\n",
    "    keywords = (\"CPU:\", \"VIDEO CARD:\", \"RAM:\")\n",
    "\n",
    "    for game in game_elements:\n",
    "        text = game.text.strip()\n",
    "        if text.startswith(keywords):\n",
    "            game_requeriments_list.append(text)\n",
    "\n",
    "    # Ensure there are exactly 6 elements (3 for minimum, 3 for recommended)\n",
    "    if len(game_requeriments_list) == 6:\n",
    "        return {\n",
    "            \"minimun_cpu\": game_requeriments_list[0],\n",
    "            \"minimun_gpu\": game_requeriments_list[1],\n",
    "            \"minimun_ram\": game_requeriments_list[2],\n",
    "            \"recommended_cpu\": game_requeriments_list[3],\n",
    "            \"recommended_gpu\": game_requeriments_list[4],\n",
    "            \"recommended_ram\": game_requeriments_list[5],\n",
    "        }\n",
    "    else:\n",
    "        return None  # Return None if the data isn't complete"
   ]
  },
  {
   "cell_type": "markdown",
   "metadata": {},
   "source": [
    "# Extract All Game information Function"
   ]
  },
  {
   "cell_type": "code",
   "execution_count": 6,
   "metadata": {},
   "outputs": [],
   "source": [
    "def process_game(driver, link):\n",
    "    try:\n",
    "        game_name = link.text.strip()  # Get the game name\n",
    "        open_new_tab(driver, link)  # Open the game page in a new tab\n",
    "        game_requirements = extract_game_requirements(driver)  # Extract requirements\n",
    "\n",
    "        if game_requirements:\n",
    "            game_requirements[\"name\"] = game_name  # Add the game name to the result\n",
    "            return game_requirements\n",
    "\n",
    "    except Exception as e:\n",
    "        print(f\"Error processing game {game_name}: {e}\")\n",
    "        return None\n",
    "\n",
    "    finally:\n",
    "        driver.close()  # Close the new tab\n",
    "        driver.switch_to.window(original_window)  # Switch back to the original tab"
   ]
  },
  {
   "cell_type": "code",
   "execution_count": 7,
   "metadata": {},
   "outputs": [],
   "source": [
    "time.sleep(2)  # Wait for the page to load\n",
    "\n",
    "original_window = driver.current_window_handle\n",
    "\n",
    "# Collect all <a> links and select from index 50 to 70\n",
    "links = driver.find_elements(By.TAG_NAME, \"a\")\n",
    "all_game_data = []\n",
    "\n",
    "if len(links) > 70:\n",
    "    for i in range(50, 70):  # Iterate from index 50 to 69\n",
    "        game_data = process_game(driver, links[i])\n",
    "        if game_data:\n",
    "            all_game_data.append(game_data)"
   ]
  },
  {
   "cell_type": "code",
   "execution_count": 8,
   "metadata": {},
   "outputs": [],
   "source": [
    "# Create a DataFrame with the collected data\n",
    "games_requirements_data = pd.DataFrame(all_game_data, columns=[\"name\", \"minimun_cpu\", \"minimun_gpu\", \"minimun_ram\", \"recommended_cpu\", \"recommended_gpu\", \"recommended_ram\"])\n",
    "\n",
    "driver.close()"
   ]
  },
  {
   "cell_type": "code",
   "execution_count": 9,
   "metadata": {},
   "outputs": [],
   "source": [
    "games_requirements_data.to_csv('tables/games_requirement_data.csv', index=True)"
   ]
  }
 ],
 "metadata": {
  "kernelspec": {
   "display_name": "Python 3",
   "language": "python",
   "name": "python3"
  },
  "language_info": {
   "codemirror_mode": {
    "name": "ipython",
    "version": 3
   },
   "file_extension": ".py",
   "mimetype": "text/x-python",
   "name": "python",
   "nbconvert_exporter": "python",
   "pygments_lexer": "ipython3",
   "version": "3.11.9"
  }
 },
 "nbformat": 4,
 "nbformat_minor": 2
}
