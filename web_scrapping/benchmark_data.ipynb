{
 "cells": [
  {
   "cell_type": "markdown",
   "metadata": {},
   "source": [
    "# Libraries"
   ]
  },
  {
   "cell_type": "code",
   "execution_count": 1,
   "metadata": {},
   "outputs": [],
   "source": [
    "import pandas as pd\n",
    "from selenium import webdriver\n",
    "from selenium.webdriver.chrome.service import Service\n",
    "from selenium.webdriver.common.by import By\n",
    "import re"
   ]
  },
  {
   "cell_type": "markdown",
   "metadata": {},
   "source": [
    "# Selenium"
   ]
  },
  {
   "cell_type": "code",
   "execution_count": 2,
   "metadata": {},
   "outputs": [],
   "source": [
    "# Initialize the Chrome WebDriver service\n",
    "service = Service()\n",
    "\n",
    "# Set Chrome options\n",
    "options = webdriver.ChromeOptions()\n",
    "\n",
    "# Start the WebDriver\n",
    "driver = webdriver.Chrome(service=service, options=options)"
   ]
  },
  {
   "cell_type": "code",
   "execution_count": 3,
   "metadata": {},
   "outputs": [],
   "source": [
    "# URL of the Intel CPU Data page\n",
    "url = 'https://benchmarks.ul.com/pt-br/compare/best-gpus'\n",
    "\n",
    "# Open the webpage\n",
    "driver.get(url)\n",
    "\n",
    "# Set an implicit wait time\n",
    "driver.implicitly_wait(3)"
   ]
  },
  {
   "cell_type": "markdown",
   "metadata": {},
   "source": [
    "# Extract GPU Name"
   ]
  },
  {
   "cell_type": "code",
   "execution_count": 4,
   "metadata": {},
   "outputs": [],
   "source": [
    "# Create lists to store the data\n",
    "gpu_name_list = []\n",
    "\n",
    "# Collect all gpu configs\n",
    "gpu_elements = driver.find_elements(By.XPATH, \"//td/a[contains(@class, 'OneLinkNoTx')]\")\n",
    "for gpu in gpu_elements:\n",
    "    gpu_name_list.append(gpu.text)"
   ]
  },
  {
   "cell_type": "markdown",
   "metadata": {},
   "source": [
    "# Extract Benchmark Score"
   ]
  },
  {
   "cell_type": "code",
   "execution_count": 5,
   "metadata": {},
   "outputs": [],
   "source": [
    "# Create lists to store the score\n",
    "benchmark_score_list = []\n",
    "\n",
    "# Collect all CPU benchmark_score number configs\n",
    "benchmark_score_elements = driver.find_elements(By.XPATH, \"//td[@class='small-pr1']//span[@class='bar-score']\")\n",
    "for benchmark_score in benchmark_score_elements:\n",
    "    benchmark_score_list.append(benchmark_score.text)"
   ]
  },
  {
   "cell_type": "code",
   "execution_count": null,
   "metadata": {},
   "outputs": [],
   "source": [
    "# Create DataFrame\n",
    "benchmark_score_data = pd.DataFrame({\"gpu_name\": gpu_name_list, \"benchmark_score\": benchmark_score_list})\n",
    "\n",
    "# Filter NVIDIA GPU\n",
    "benchmark_score_data = benchmark_score_data[benchmark_score_data['gpu_name'].str.startswith('NVIDIA')]\n",
    "\n",
    "# Standardize notebooks GPU\n",
    "benchmark_score_data['gpu_name'] = benchmark_score_data['gpu_name'].str.replace(r'\\(notebook\\)$', 'Laptop GPU', regex=True)\n",
    "\n",
    "driver.close()"
   ]
  },
  {
   "cell_type": "code",
   "execution_count": 7,
   "metadata": {},
   "outputs": [],
   "source": [
    "# Save data\n",
    "benchmark_score_data.to_csv('../tables/benchmark_score_data.csv', index=True)"
   ]
  }
 ],
 "metadata": {
  "kernelspec": {
   "display_name": "Python 3",
   "language": "python",
   "name": "python3"
  },
  "language_info": {
   "codemirror_mode": {
    "name": "ipython",
    "version": 3
   },
   "file_extension": ".py",
   "mimetype": "text/x-python",
   "name": "python",
   "nbconvert_exporter": "python",
   "pygments_lexer": "ipython3",
   "version": "3.11.9"
  }
 },
 "nbformat": 4,
 "nbformat_minor": 2
}
