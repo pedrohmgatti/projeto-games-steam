{
 "cells": [
  {
   "cell_type": "markdown",
   "metadata": {},
   "source": [
    "# Libraries"
   ]
  },
  {
   "cell_type": "code",
   "execution_count": 1,
   "metadata": {},
   "outputs": [],
   "source": [
    "import pandas as pd"
   ]
  },
  {
   "cell_type": "markdown",
   "metadata": {},
   "source": [
    "# Load Data"
   ]
  },
  {
   "cell_type": "code",
   "execution_count": 2,
   "metadata": {},
   "outputs": [],
   "source": [
    "games_requirement_data = pd.read_csv('../tables/games_requirement_data.csv', index_col=0)\n",
    "benchmark_score_data = pd.read_csv('../tables/benchmark_score_data.csv', index_col=0)"
   ]
  },
  {
   "cell_type": "markdown",
   "metadata": {},
   "source": [
    "# Filtering old games"
   ]
  },
  {
   "cell_type": "markdown",
   "metadata": {},
   "source": [
    "Games released more than three years ago will not enter in the analysis"
   ]
  },
  {
   "cell_type": "code",
   "execution_count": 3,
   "metadata": {},
   "outputs": [],
   "source": [
    "# Convert release date to date time\n",
    "games_requirement_data['release_date'] = pd.to_datetime(games_requirement_data['release_date'], format='%Y. %B %d.')\n",
    "\n",
    "# Filtering old games\n",
    "games_requirement_data = games_requirement_data[games_requirement_data['release_date'].dt.year >= 2023]\n",
    "\n",
    "# Extract only date from datetime object\n",
    "games_requirement_data['release_date'] = games_requirement_data['release_date'].dt.date"
   ]
  },
  {
   "cell_type": "markdown",
   "metadata": {},
   "source": [
    "# Handling Null Values"
   ]
  },
  {
   "cell_type": "code",
   "execution_count": 4,
   "metadata": {},
   "outputs": [],
   "source": [
    "games_requirement_data.dropna(inplace=True)\n",
    "benchmark_score_data.dropna(inplace=True)"
   ]
  },
  {
   "cell_type": "markdown",
   "metadata": {},
   "source": [
    "# Handling Duplicates"
   ]
  },
  {
   "cell_type": "code",
   "execution_count": 5,
   "metadata": {},
   "outputs": [],
   "source": [
    "benchmark_score_data.drop_duplicates(subset='gpu_name', keep='first', inplace=True)"
   ]
  },
  {
   "cell_type": "markdown",
   "metadata": {},
   "source": [
    "# Join the market share column for Video Card and RAM"
   ]
  },
  {
   "cell_type": "markdown",
   "metadata": {},
   "source": [
    "Market share data can be found in the files gpu_data.csv and ram_data.csv, both extracted from Steam Hardware Survey"
   ]
  },
  {
   "cell_type": "markdown",
   "metadata": {},
   "source": [
    "## Load Tables"
   ]
  },
  {
   "cell_type": "code",
   "execution_count": 6,
   "metadata": {},
   "outputs": [],
   "source": [
    "# Loading tables\n",
    "gpu_data = pd.read_csv('../tables/gpu_data.csv', index_col=0)\n",
    "ram_data = pd.read_csv('../tables/ram_data.csv', index_col=0)"
   ]
  },
  {
   "cell_type": "code",
   "execution_count": 7,
   "metadata": {},
   "outputs": [],
   "source": [
    "# Convert market share to numeric\n",
    "gpu_data['market_share'] = gpu_data['market_share'].str.rstrip('%').astype(float)/100\n",
    "ram_data['market_share'] = ram_data['market_share'].str.rstrip('%').astype(float)/100"
   ]
  },
  {
   "cell_type": "markdown",
   "metadata": {},
   "source": [
    "## Handling GPU Market Share"
   ]
  },
  {
   "cell_type": "markdown",
   "metadata": {},
   "source": [
    "Since only NVIDIA was filtered, the market share is currently less than 100%. However, it should be adjusted to 100% to represent the total share of NVIDIA GPUs."
   ]
  },
  {
   "cell_type": "code",
   "execution_count": 8,
   "metadata": {},
   "outputs": [
    {
     "name": "stdout",
     "output_type": "stream",
     "text": [
      "Before:\n",
      "0.793\n"
     ]
    }
   ],
   "source": [
    "# Sum market share\n",
    "print(f\"Before:\\n{round(gpu_data['market_share'].sum(), 3)}\")"
   ]
  },
  {
   "cell_type": "code",
   "execution_count": 9,
   "metadata": {},
   "outputs": [],
   "source": [
    "# Normalizing market share\n",
    "gpu_data['market_share'] = gpu_data['market_share']/(gpu_data['market_share'].sum())"
   ]
  },
  {
   "cell_type": "code",
   "execution_count": 10,
   "metadata": {},
   "outputs": [
    {
     "name": "stdout",
     "output_type": "stream",
     "text": [
      "After:\n",
      "1.0\n"
     ]
    }
   ],
   "source": [
    "# Sum market share\n",
    "print(f\"After:\\n{round(gpu_data['market_share'].sum(), 3)}\")"
   ]
  },
  {
   "cell_type": "markdown",
   "metadata": {},
   "source": [
    "Now it's possible to join the columns"
   ]
  },
  {
   "cell_type": "markdown",
   "metadata": {},
   "source": [
    "## Join Market Share"
   ]
  },
  {
   "cell_type": "markdown",
   "metadata": {},
   "source": [
    "### GPU"
   ]
  },
  {
   "cell_type": "code",
   "execution_count": 11,
   "metadata": {},
   "outputs": [],
   "source": [
    "# Minimum GPU required\n",
    "games_requirement_data = pd.merge(games_requirement_data, gpu_data, how='left', left_on='gpu_minimum', right_on='gpu_name')\n",
    "games_requirement_data.rename(columns={'market_share':'gpu_minimum_market_share'}, inplace=True)\n",
    "\n",
    "# Drop column\n",
    "games_requirement_data.drop('gpu_name', axis=1, inplace=True)"
   ]
  },
  {
   "cell_type": "code",
   "execution_count": 12,
   "metadata": {},
   "outputs": [],
   "source": [
    "# Recommended GPU required\n",
    "games_requirement_data = pd.merge(games_requirement_data, gpu_data, how='left', left_on='gpu_recommended', right_on='gpu_name')\n",
    "games_requirement_data.rename(columns={'market_share':'gpu_recommended_market_share'}, inplace=True)\n",
    "\n",
    "# Drop column\n",
    "games_requirement_data.drop('gpu_name', axis=1, inplace=True)"
   ]
  },
  {
   "cell_type": "markdown",
   "metadata": {},
   "source": [
    "### RAM"
   ]
  },
  {
   "cell_type": "code",
   "execution_count": 13,
   "metadata": {},
   "outputs": [],
   "source": [
    "# Minimum RAM required\n",
    "games_requirement_data = pd.merge(games_requirement_data, ram_data, how='left', left_on='ram_minimum', right_on='RAM')\n",
    "games_requirement_data.rename(columns={'market_share':'ram_minimum_market_share'}, inplace=True)\n",
    "\n",
    "# Drop column\n",
    "games_requirement_data.drop('RAM', axis=1, inplace=True)"
   ]
  },
  {
   "cell_type": "code",
   "execution_count": 14,
   "metadata": {},
   "outputs": [],
   "source": [
    "# Recommended RAM required\n",
    "games_requirement_data = pd.merge(games_requirement_data, ram_data, how='left', left_on='ram_recommended', right_on='RAM')\n",
    "games_requirement_data.rename(columns={'market_share':'ram_recommended_market_share'}, inplace=True)\n",
    "\n",
    "# Drop column\n",
    "games_requirement_data.drop('RAM', axis=1, inplace=True)"
   ]
  },
  {
   "cell_type": "markdown",
   "metadata": {},
   "source": [
    "# Handling GPU Benchmark Score"
   ]
  },
  {
   "cell_type": "markdown",
   "metadata": {},
   "source": [
    "## Join Benchmarck Score for GPU"
   ]
  },
  {
   "cell_type": "code",
   "execution_count": 15,
   "metadata": {},
   "outputs": [],
   "source": [
    "# Minimum GPU required\n",
    "games_requirement_data = pd.merge(games_requirement_data, benchmark_score_data, how='inner', left_on='gpu_minimum', right_on='gpu_name')\n",
    "games_requirement_data.rename(columns={'benchmark_score':'gpu_minimum_benchmark_score'}, inplace=True)\n",
    "\n",
    "# Drop column\n",
    "games_requirement_data.drop('gpu_name', axis=1, inplace=True)"
   ]
  },
  {
   "cell_type": "code",
   "execution_count": 16,
   "metadata": {},
   "outputs": [],
   "source": [
    "# Recommended GPU required\n",
    "games_requirement_data = pd.merge(games_requirement_data, benchmark_score_data, how='inner', left_on='gpu_recommended', right_on='gpu_name')\n",
    "games_requirement_data.rename(columns={'benchmark_score':'gpu_recommended_benchmark_score'}, inplace=True)\n",
    "\n",
    "# Drop column\n",
    "games_requirement_data.drop('gpu_name', axis=1, inplace=True)"
   ]
  }
 ],
 "metadata": {
  "kernelspec": {
   "display_name": "Python 3",
   "language": "python",
   "name": "python3"
  },
  "language_info": {
   "codemirror_mode": {
    "name": "ipython",
    "version": 3
   },
   "file_extension": ".py",
   "mimetype": "text/x-python",
   "name": "python",
   "nbconvert_exporter": "python",
   "pygments_lexer": "ipython3",
   "version": "3.11.9"
  }
 },
 "nbformat": 4,
 "nbformat_minor": 2
}
