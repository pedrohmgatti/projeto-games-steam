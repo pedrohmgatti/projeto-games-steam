{
 "cells": [
  {
   "cell_type": "markdown",
   "metadata": {},
   "source": [
    "# Libraries"
   ]
  },
  {
   "cell_type": "code",
   "execution_count": 1,
   "metadata": {},
   "outputs": [],
   "source": [
    "import pandas as pd\n",
    "import re"
   ]
  },
  {
   "cell_type": "markdown",
   "metadata": {},
   "source": [
    "# Load Data"
   ]
  },
  {
   "cell_type": "code",
   "execution_count": 2,
   "metadata": {},
   "outputs": [],
   "source": [
    "# Load games requirements table\n",
    "games_requirement_data = pd.read_csv('../row_tables/system_requirement_website_data.csv', index_col=0)\n",
    "\n",
    "# Load benchmark score table\n",
    "benchmark_score_data = pd.read_csv('../row_tables/benchmark_score_data.csv', index_col=0)\n",
    "\n",
    "# Load GPU table\n",
    "gpu_data = pd.read_csv('../row_tables/gpu_data.csv', index_col=0)\n",
    "\n",
    "# Load RAM table\n",
    "ram_data = pd.read_csv('../row_tables/ram_data.csv', index_col=0)"
   ]
  },
  {
   "cell_type": "markdown",
   "metadata": {},
   "source": [
    "# Standardize GPU names functions"
   ]
  },
  {
   "cell_type": "code",
   "execution_count": 3,
   "metadata": {},
   "outputs": [],
   "source": [
    "def standardize_nvidia_gpus(df, column):\n",
    "    # Regex pattern to identify NVIDIA GPU models and components\n",
    "    pattern = re.compile(r\"\"\"\n",
    "        (?:NVIDIA\\s*)?          # Optional \"NVIDIA\" prefix\n",
    "        (?:GeForce\\s+)?         # Optional \"GeForce\" followed by whitespace\n",
    "        (GTX|RTX|GT|Quadro|TITAN)\\s*  # Captured model family (GTX, RTX, etc.)\n",
    "        (?:[-®™]?\\s*)?         # Optional special characters\n",
    "        (\\d{2,4})              # Numerical part (e.g., 9800, 1660, 1080 Ti)\n",
    "        \\s*                     # Optional whitespace after number\n",
    "        (SUPER|Ti|Laptop\\sGPU|Max-Q)?  # Optional suffixes (case-insensitive)\n",
    "    \"\"\", re.IGNORECASE | re.VERBOSE)\n",
    "    \n",
    "    def extract_and_standardize(gpu_str):\n",
    "        if not isinstance(gpu_str, str):\n",
    "            return None\n",
    "        \n",
    "        gpu_str = re.sub(r\"VIDEO CARD:\\s*\", \"\", gpu_str, flags=re.IGNORECASE)\n",
    "        matches = pattern.findall(gpu_str)\n",
    "        \n",
    "        standardized_cards = []\n",
    "        for series, number, suffix in matches:\n",
    "            # Determine product line based on model family\n",
    "            series_upper = series.upper()\n",
    "            if series_upper in ['GTX', 'RTX', 'GT']:\n",
    "                product_line = 'GeForce'\n",
    "            elif series_upper == 'QUADRO':\n",
    "                product_line = 'Quadro'\n",
    "            elif series_upper == 'TITAN':\n",
    "                product_line = 'TITAN'\n",
    "            else:\n",
    "                product_line = 'GeForce'  # Default to GeForce\n",
    "            \n",
    "            base_name = f\"NVIDIA {product_line} {series_upper} {number}\"\n",
    "            \n",
    "            # Process suffix\n",
    "            if suffix:\n",
    "                suffix_lower = suffix.strip().lower()\n",
    "                if suffix_lower == 'ti':\n",
    "                    standardized_suffix = 'Ti'\n",
    "                elif suffix_lower == 'super':\n",
    "                    standardized_suffix = 'SUPER'\n",
    "                elif suffix_lower == 'laptop gpu':\n",
    "                    standardized_suffix = 'Laptop GPU'\n",
    "                elif suffix_lower == 'max-q':\n",
    "                    standardized_suffix = 'Max-Q'\n",
    "                else:\n",
    "                    standardized_suffix = suffix.strip().title()\n",
    "                base_name += f\" {standardized_suffix}\"\n",
    "            \n",
    "            standardized_cards.append(base_name)\n",
    "        \n",
    "        return standardized_cards[0] if standardized_cards else None\n",
    "    \n",
    "    df[column] = df[column].apply(extract_and_standardize)\n",
    "    return df"
   ]
  },
  {
   "cell_type": "markdown",
   "metadata": {},
   "source": [
    "# Standardize RAM amount function"
   ]
  },
  {
   "cell_type": "code",
   "execution_count": 4,
   "metadata": {},
   "outputs": [],
   "source": [
    "# Function to extract only numbers and append \"GB\"\n",
    "def standardize_ram(value):\n",
    "    num = ''.join(filter(str.isdigit, value))  # Keep only digits\n",
    "    return f\"{num} GB\" if num else value  # Append \"GB\" if numbers found"
   ]
  },
  {
   "cell_type": "markdown",
   "metadata": {},
   "source": [
    "# Aplly all changes"
   ]
  },
  {
   "cell_type": "code",
   "execution_count": 5,
   "metadata": {},
   "outputs": [],
   "source": [
    "# Apply changes for GPU\n",
    "games_requirement_data = standardize_nvidia_gpus(games_requirement_data, 'gpu_minimum')\n",
    "games_requirement_data = standardize_nvidia_gpus(games_requirement_data, 'gpu_recommended')\n",
    "benchmark_score_data = standardize_nvidia_gpus(benchmark_score_data, 'gpu_name')\n",
    "\n",
    "# Apply changes for RAM\n",
    "games_requirement_data['ram_minimum'] = games_requirement_data['ram_minimum'].apply(standardize_ram)\n",
    "games_requirement_data['ram_recommended'] = games_requirement_data['ram_recommended'].apply(standardize_ram)"
   ]
  },
  {
   "cell_type": "markdown",
   "metadata": {},
   "source": [
    "# Handling Null Values"
   ]
  },
  {
   "cell_type": "code",
   "execution_count": 6,
   "metadata": {},
   "outputs": [],
   "source": [
    "def null_values(df):\n",
    "    for column in df.columns:\n",
    "        null_count = df[column].isna().sum()\n",
    "        if (null_count>0):\n",
    "            print(f'{column}: {null_count} null values')    "
   ]
  },
  {
   "cell_type": "code",
   "execution_count": 7,
   "metadata": {},
   "outputs": [
    {
     "name": "stdout",
     "output_type": "stream",
     "text": [
      "gpu_minimum: 10 null values\n",
      "gpu_recommended: 4 null values\n"
     ]
    }
   ],
   "source": [
    "null_values(games_requirement_data)"
   ]
  },
  {
   "cell_type": "code",
   "execution_count": 8,
   "metadata": {},
   "outputs": [
    {
     "name": "stdout",
     "output_type": "stream",
     "text": [
      "gpu_name: 18 null values\n"
     ]
    }
   ],
   "source": [
    "null_values(benchmark_score_data)"
   ]
  },
  {
   "cell_type": "code",
   "execution_count": 9,
   "metadata": {},
   "outputs": [],
   "source": [
    "games_requirement_data.dropna(inplace=True)\n",
    "benchmark_score_data.dropna(inplace=True)"
   ]
  },
  {
   "cell_type": "markdown",
   "metadata": {},
   "source": [
    "# Handling Duplicates"
   ]
  },
  {
   "cell_type": "code",
   "execution_count": 10,
   "metadata": {},
   "outputs": [],
   "source": [
    "benchmark_score_data.drop_duplicates(subset='gpu_name', keep='first', inplace=True)"
   ]
  },
  {
   "cell_type": "markdown",
   "metadata": {},
   "source": [
    "# Handling GPU Market Share\n",
    "Since only NVIDIA was filtered, the market share is currently less than 100%. However, it should be adjusted to 100% to represent the total share of NVIDIA GPUs."
   ]
  },
  {
   "cell_type": "code",
   "execution_count": 11,
   "metadata": {},
   "outputs": [],
   "source": [
    "# Convert market share to numeric\n",
    "gpu_data['market_share'] = gpu_data['market_share'].str.rstrip('%').astype(float)/100"
   ]
  },
  {
   "cell_type": "code",
   "execution_count": 12,
   "metadata": {},
   "outputs": [
    {
     "name": "stdout",
     "output_type": "stream",
     "text": [
      "Before:\n",
      "0.793\n"
     ]
    }
   ],
   "source": [
    "# Sum market share\n",
    "print(f\"Before:\\n{round(gpu_data['market_share'].sum(), 3)}\")"
   ]
  },
  {
   "cell_type": "code",
   "execution_count": 13,
   "metadata": {},
   "outputs": [],
   "source": [
    "# Normalizing market share\n",
    "gpu_data['market_share'] = gpu_data['market_share']/(gpu_data['market_share'].sum())"
   ]
  },
  {
   "cell_type": "code",
   "execution_count": 14,
   "metadata": {},
   "outputs": [
    {
     "name": "stdout",
     "output_type": "stream",
     "text": [
      "After:\n",
      "1.0\n"
     ]
    }
   ],
   "source": [
    "# Sum market share\n",
    "print(f\"After:\\n{round(gpu_data['market_share'].sum(), 3)}\")"
   ]
  },
  {
   "cell_type": "markdown",
   "metadata": {},
   "source": [
    "# Handling RAM Market Share\n",
    "Just like the GPU, the market share is currently less than 100%. Since \"Less than 4GB\" and \"More than 64GB\" was removed from ram_data, so it's necessary adjust to 100%"
   ]
  },
  {
   "cell_type": "code",
   "execution_count": 15,
   "metadata": {},
   "outputs": [],
   "source": [
    "# Convert market share to numeric\n",
    "ram_data['market_share'] = ram_data['market_share'].str.rstrip('%').astype(float)/100"
   ]
  },
  {
   "cell_type": "code",
   "execution_count": 16,
   "metadata": {},
   "outputs": [
    {
     "name": "stdout",
     "output_type": "stream",
     "text": [
      "Before:\n",
      "0.986\n"
     ]
    }
   ],
   "source": [
    "# Sum market share\n",
    "print(f\"Before:\\n{round(ram_data['market_share'].sum(), 3)}\")"
   ]
  },
  {
   "cell_type": "code",
   "execution_count": 17,
   "metadata": {},
   "outputs": [],
   "source": [
    "# Normalizing market share\n",
    "ram_data['market_share'] = ram_data['market_share']/(ram_data['market_share'].sum())"
   ]
  },
  {
   "cell_type": "code",
   "execution_count": 18,
   "metadata": {},
   "outputs": [
    {
     "name": "stdout",
     "output_type": "stream",
     "text": [
      "After:\n",
      "1.0\n"
     ]
    }
   ],
   "source": [
    "# Sum market share\n",
    "print(f\"After:\\n{round(ram_data['market_share'].sum(), 3)}\")"
   ]
  },
  {
   "cell_type": "markdown",
   "metadata": {},
   "source": [
    "# Join Benchmark Score on GPU table\n",
    "Fill the GPU table with all data avaiable"
   ]
  },
  {
   "cell_type": "code",
   "execution_count": 19,
   "metadata": {},
   "outputs": [],
   "source": [
    "# Minimum GPU required\n",
    "gpu_data = pd.merge(gpu_data, benchmark_score_data, how='left', on='gpu_name')"
   ]
  },
  {
   "cell_type": "markdown",
   "metadata": {},
   "source": [
    "# Join Benchmark Score on Requirements table\n",
    "The goal is to measure only the GPU power, so it's not necessary to keep the names of the minimum and recommended requirements"
   ]
  },
  {
   "cell_type": "code",
   "execution_count": 20,
   "metadata": {},
   "outputs": [],
   "source": [
    "# Minimum GPU required\n",
    "games_requirement_data = pd.merge(games_requirement_data, benchmark_score_data, how='left', left_on='gpu_minimum', right_on='gpu_name')\n",
    "games_requirement_data.rename(columns={'benchmark_score':'gpu_minimum_benchmark_score'}, inplace=True)\n",
    "\n",
    "# Drop column\n",
    "games_requirement_data.drop('gpu_name', axis=1, inplace=True)"
   ]
  },
  {
   "cell_type": "code",
   "execution_count": 21,
   "metadata": {},
   "outputs": [],
   "source": [
    "# Recommended GPU required\n",
    "games_requirement_data = pd.merge(games_requirement_data, benchmark_score_data, how='left', left_on='gpu_recommended', right_on='gpu_name')\n",
    "games_requirement_data.rename(columns={'benchmark_score':'gpu_recommended_benchmark_score'}, inplace=True)\n",
    "\n",
    "# Drop column\n",
    "games_requirement_data.drop('gpu_name', axis=1, inplace=True)"
   ]
  },
  {
   "cell_type": "code",
   "execution_count": 22,
   "metadata": {},
   "outputs": [],
   "source": [
    "# Drop GPU Column\n",
    "games_requirement_data.drop(['gpu_minimum', 'gpu_recommended'], axis=1, inplace=True)"
   ]
  },
  {
   "cell_type": "markdown",
   "metadata": {},
   "source": [
    "# Transform RAM amount to numeric"
   ]
  },
  {
   "cell_type": "code",
   "execution_count": 23,
   "metadata": {},
   "outputs": [],
   "source": [
    "# Extract RAM amount and converts to numeric\n",
    "ram_data['ram'] = ram_data['ram'].str.extract(r'(\\d+)').astype(int)\n",
    "games_requirement_data['ram_minimum'] = games_requirement_data['ram_minimum'].str.extract(r'(\\d+)').astype(int)\n",
    "games_requirement_data['ram_recommended'] = games_requirement_data['ram_recommended'].str.extract(r'(\\d+)').astype(int)"
   ]
  },
  {
   "cell_type": "markdown",
   "metadata": {},
   "source": [
    "# Save Data"
   ]
  },
  {
   "cell_type": "code",
   "execution_count": 24,
   "metadata": {},
   "outputs": [],
   "source": [
    "# Save games requirements table\n",
    "games_requirement_data.to_csv('../tables/games_requirement_data.csv', index=True)\n",
    "\n",
    "# Save benchmark score table\n",
    "benchmark_score_data.to_csv('../tables/benchmark_score_data.csv', index=True)\n",
    "\n",
    "# Save gpu data table\n",
    "gpu_data.to_csv('../tables/gpu_data.csv', index=True)\n",
    "\n",
    "# Save ram data table\n",
    "ram_data.to_csv('../tables/ram_data.csv', index=True)"
   ]
  }
 ],
 "metadata": {
  "kernelspec": {
   "display_name": "Python 3",
   "language": "python",
   "name": "python3"
  },
  "language_info": {
   "codemirror_mode": {
    "name": "ipython",
    "version": 3
   },
   "file_extension": ".py",
   "mimetype": "text/x-python",
   "name": "python",
   "nbconvert_exporter": "python",
   "pygments_lexer": "ipython3",
   "version": "3.11.9"
  }
 },
 "nbformat": 4,
 "nbformat_minor": 2
}
