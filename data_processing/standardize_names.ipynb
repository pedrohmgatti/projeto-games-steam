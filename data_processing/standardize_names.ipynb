{
 "cells": [
  {
   "cell_type": "markdown",
   "metadata": {},
   "source": [
    "# Libraries"
   ]
  },
  {
   "cell_type": "code",
   "execution_count": 1,
   "metadata": {},
   "outputs": [],
   "source": [
    "import re\n",
    "import pandas as pd"
   ]
  },
  {
   "cell_type": "markdown",
   "metadata": {},
   "source": [
    "# Load data"
   ]
  },
  {
   "cell_type": "code",
   "execution_count": 2,
   "metadata": {},
   "outputs": [],
   "source": [
    "# Load games requirements table\n",
    "games_requirements_data = pd.read_csv('../tables/system_requirement_website_data.csv', index_col=0)"
   ]
  },
  {
   "cell_type": "markdown",
   "metadata": {},
   "source": [
    "# Standardize GPU names functions"
   ]
  },
  {
   "cell_type": "code",
   "execution_count": 3,
   "metadata": {},
   "outputs": [],
   "source": [
    "# Standardizes NVIDIA GPU names in a DataFrame column by extracting and formatting model information\n",
    "def standardize_nvidia_gpus(df, column):\n",
    "    \n",
    "    # Regex pattern to identify NVIDIA GPU models and components\n",
    "    pattern = re.compile(r\"\"\"\n",
    "        (?:NVIDIA\\s*)?  # Optional \"NVIDIA\" prefix\n",
    "        (?:GeForce|GTX|RTX|GT|Quadro|TITAN)\\s*  # Recognized GPU series\n",
    "        (?:[-®™]?\\s*)?  # Optional special characters\n",
    "        (\\d{2,4})\\s*  # Numerical part (e.g., 9800, 1660, 1080 Ti)\n",
    "        (SUPER|Ti|Laptop\\sGPU|Max-Q)?  # Optional suffixes (SUPER, Ti, etc.)\n",
    "    \"\"\", re.IGNORECASE | re.VERBOSE)\n",
    "    \n",
    "    # Inner function to process individual GPU strings\n",
    "    def extract_and_standardize(gpu_str):\n",
    "\n",
    "        if not isinstance(gpu_str, str):\n",
    "            return None  # Return None for non-string values\n",
    "        \n",
    "        # Remove \"VIDEO CARD:\" prefix if present\n",
    "        gpu_str = re.sub(r\"VIDEO CARD:\\s*\", \"\", gpu_str, flags=re.IGNORECASE)\n",
    "        matches = pattern.findall(gpu_str)\n",
    "        \n",
    "        standardized_cards = []\n",
    "        for number, suffix in matches:\n",
    "            # Determine GPU generation prefix\n",
    "            base_name = (\n",
    "                f\"NVIDIA GeForce GTX {number}\"\n",
    "                if int(number) < 1000\n",
    "                else f\"NVIDIA GeForce RTX {number}\"\n",
    "            )\n",
    "            \n",
    "            # Add suffix if present\n",
    "            if suffix:\n",
    "                base_name += f\" {suffix.upper()}\"\n",
    "            \n",
    "            standardized_cards.append(base_name)\n",
    "        \n",
    "        # Return first match or None if no matches\n",
    "        return standardized_cards[0] if standardized_cards else None\n",
    "    \n",
    "    # Apply standardization to specified column\n",
    "    df[column] = df[column].apply(extract_and_standardize)\n",
    "    \n",
    "    return df"
   ]
  },
  {
   "cell_type": "markdown",
   "metadata": {},
   "source": [
    "# Standardize CPU names functions"
   ]
  },
  {
   "cell_type": "code",
   "execution_count": 4,
   "metadata": {},
   "outputs": [],
   "source": [
    "# Standardizes Intel CPU names in a DataFrame column by extracting and formatting processor information\n",
    "def standardize_intel_cpus(df, column):\n",
    "\n",
    "    # Regex pattern for modern Intel Core processors (i3/i5/i7/i9)\n",
    "    core_pattern = re.compile(r\"\"\"\n",
    "        (?:Intel\\s*Core\\s*i?  # Base identifier\n",
    "        |Core\\s*i?            # Alternative without Intel prefix\n",
    "        |Intel\\s*i?)           # Short version\n",
    "        (\\d{1,2})              # Generation number (e.g., 3, 5, 7)\n",
    "        [- ]?                  # Optional separator\n",
    "        (\\d+)                  # Model number (e.g., 10700, 12900)\n",
    "        ([A-Za-z]*)            # Suffix letters (e.g., K, F, HK)\n",
    "    \"\"\", re.IGNORECASE | re.VERBOSE)\n",
    "\n",
    "    # Regex pattern for legacy Core 2 processors\n",
    "    legacy_pattern = re.compile(r\"\"\"\n",
    "        Intel\\s*Core\\s*2\\s*   # Legacy processor line\n",
    "        (Duo|Quad)\\s*         # Processor type\n",
    "        ([A-Za-z0-9]+)        # Model designation\n",
    "    \"\"\", re.IGNORECASE | re.VERBOSE)\n",
    "\n",
    "    # Inner function to process individual CPU strings\n",
    "    def extract_and_standardize(cpu_str):\n",
    "\n",
    "        if not isinstance(cpu_str, str):\n",
    "            return None  # Return None for non-string values\n",
    "\n",
    "        # Remove special characters\n",
    "        cleaned_str = re.sub(r'[®™]', '', cpu_str)\n",
    "\n",
    "        # Try modern Core processors first\n",
    "        core_match = core_pattern.search(cleaned_str)\n",
    "        if core_match:\n",
    "            series, model, suffix = core_match.groups()\n",
    "            return f'Intel® Core™ i{series}-{model}{suffix}'.strip()\n",
    "\n",
    "        # Try legacy Core 2 processors\n",
    "        legacy_match = legacy_pattern.search(cleaned_str)\n",
    "        if legacy_match:\n",
    "            type_, model = legacy_match.groups()\n",
    "            return f'Intel® Core™ 2 {type_} {model}'.strip()\n",
    "\n",
    "        return None\n",
    "\n",
    "    # Apply standardization to specified column\n",
    "    df[column] = df[column].apply(extract_and_standardize)\n",
    "    \n",
    "    return df"
   ]
  },
  {
   "cell_type": "markdown",
   "metadata": {},
   "source": [
    "# Standardize RAM capacity function"
   ]
  },
  {
   "cell_type": "code",
   "execution_count": 5,
   "metadata": {},
   "outputs": [],
   "source": [
    "# Function to extract only numbers and append \"GB\"\n",
    "def standardize_ram(value):\n",
    "    num = ''.join(filter(str.isdigit, value))  # Keep only digits\n",
    "    return f\"{num} GB\" if num else value  # Append \"GB\" if numbers found"
   ]
  },
  {
   "cell_type": "markdown",
   "metadata": {},
   "source": [
    "# Aplly all changes"
   ]
  },
  {
   "cell_type": "code",
   "execution_count": 6,
   "metadata": {},
   "outputs": [],
   "source": [
    "# Apply changes for GPU\n",
    "games_requirements_data = standardize_nvidia_gpus(games_requirements_data, 'gpu_minimum')\n",
    "games_requirements_data = standardize_nvidia_gpus(games_requirements_data, 'gpu_recommended')\n",
    "\n",
    "# Apply changes for CPU\n",
    "games_requirements_data = standardize_intel_cpus(games_requirements_data, 'cpu_minimum')\n",
    "games_requirements_data = standardize_intel_cpus(games_requirements_data, 'cpu_recommended')\n",
    "\n",
    "# Apply changes for RAM\n",
    "games_requirements_data['ram_minimum'] = games_requirements_data['ram_minimum'].apply(standardize_ram)\n",
    "games_requirements_data['ram_recommended'] = games_requirements_data['ram_recommended'].apply(standardize_ram)"
   ]
  },
  {
   "cell_type": "markdown",
   "metadata": {},
   "source": [
    "# Store game requirements data"
   ]
  },
  {
   "cell_type": "code",
   "execution_count": 7,
   "metadata": {},
   "outputs": [],
   "source": [
    "# Save data\n",
    "games_requirements_data.to_csv('../tables/games_requirement_data.csv', index=True)"
   ]
  }
 ],
 "metadata": {
  "kernelspec": {
   "display_name": "Python 3",
   "language": "python",
   "name": "python3"
  },
  "language_info": {
   "codemirror_mode": {
    "name": "ipython",
    "version": 3
   },
   "file_extension": ".py",
   "mimetype": "text/x-python",
   "name": "python",
   "nbconvert_exporter": "python",
   "pygments_lexer": "ipython3",
   "version": "3.11.9"
  }
 },
 "nbformat": 4,
 "nbformat_minor": 2
}
